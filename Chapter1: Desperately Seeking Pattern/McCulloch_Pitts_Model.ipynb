{
  "nbformat": 4,
  "nbformat_minor": 0,
  "metadata": {
    "colab": {
      "provenance": []
    },
    "kernelspec": {
      "name": "python3",
      "display_name": "Python 3"
    },
    "language_info": {
      "name": "python"
    }
  },
  "cells": [
    {
      "cell_type": "code",
      "execution_count": 14,
      "metadata": {
        "id": "iWN8Bl62gRPv"
      },
      "outputs": [],
      "source": [
        "# Function for summation:\n",
        "def g_x(arr):\n",
        "    sum = 0\n",
        "    for i in range(len(arr)):\n",
        "        sum += arr[i]\n",
        "    return sum\n",
        "\n",
        "# Function for threshold\n",
        "def f_x(theta,sum,op):\n",
        "  match op:\n",
        "    case \"OR\":\n",
        "      if sum >= theta:\n",
        "        return 1\n",
        "      else:\n",
        "          return 0\n",
        "    case \"AND\":\n",
        "      if sum == theta:\n",
        "        return 1\n",
        "      else:\n",
        "        return 0\n",
        "    case \"NOT\":\n",
        "      if sum == 0:\n",
        "        return 1\n",
        "      else:\n",
        "        return 0\n",
        "    case \"XOR\":\n",
        "      if sum % 2 == theta:\n",
        "        return 1\n",
        "      else:\n",
        "        return 0\n",
        "    case \"NAND\":\n",
        "      if sum == theta:\n",
        "        return 0\n",
        "      else:\n",
        "        return 1\n",
        "    case \"NOR\":\n",
        "      if sum >= theta:\n",
        "        return 0\n",
        "      else:\n",
        "        return 1\n",
        "    case \"XNOR\":\n",
        "      if sum % 2 == theta:\n",
        "        return 0\n",
        "      else:\n",
        "        return 1\n",
        "    case default:\n",
        "      print(\"Invalid operation\")"
      ]
    },
    {
      "cell_type": "code",
      "source": [
        "# Getting logical operation, threshold 'theta' and no. of inputs from the user.\n",
        "def get_inputs():\n",
        "    op = input(\"Enter logical operation: \")\n",
        "    theta = int(input(\"Enter threshold: \"))\n",
        "    n = int(input(\"Enter no. of inputs: \"))\n",
        "\n",
        "    arr = []\n",
        "    for i in range(n):\n",
        "        a = int(input(\"Enter input: \"))\n",
        "        if a == 0 or a == 1:\n",
        "            arr.append(a)\n",
        "        else:\n",
        "            print(\"Invalid input\")\n",
        "            i = i+1\n",
        "\n",
        "    sum = g_x(arr)\n",
        "    return f_x(theta,sum,op)"
      ],
      "metadata": {
        "id": "h16vyvt-iHyK"
      },
      "execution_count": 15,
      "outputs": []
    },
    {
      "cell_type": "code",
      "source": [
        "if __name__ == \"__main__\":\n",
        "  choice = 1\n",
        "  while (choice):\n",
        "    print(\"Choose an operation:\")\n",
        "    print(\"1. OR\")\n",
        "    print(\"2. AND\")\n",
        "    print(\"3. NOT\")\n",
        "    print(\"4. XOR\")\n",
        "    print(\"5. NAND\")\n",
        "    print(\"6. NOR\")\n",
        "    print(\"7. XNOR\")\n",
        "    print(\"0. Exit\")\n",
        "    ans = get_inputs()\n",
        "    print(\"The result is: \", ans)\n",
        "    print(\"*\"*30)\n",
        "    choice = int(input(\"Do you want to continue?(Enter'1' : Yes, '0': No): \"))\n",
        "    if choice == 0:\n",
        "      print(\"*\"*20, \"Terminated\", \"*\"*20)"
      ],
      "metadata": {
        "colab": {
          "base_uri": "https://localhost:8080/"
        },
        "id": "Eh5mfvoUnmyC",
        "outputId": "6386cbb0-942e-417c-d098-1b81bf26e458"
      },
      "execution_count": 17,
      "outputs": [
        {
          "output_type": "stream",
          "name": "stdout",
          "text": [
            "Choose an operation:\n",
            "1. OR\n",
            "2. AND\n",
            "3. NOT\n",
            "4. XOR\n",
            "5. NAND\n",
            "6. NOR\n",
            "7. XNOR\n",
            "0. Exit\n",
            "Enter logical operation: XNOR\n",
            "Enter threshold: 1\n",
            "Enter no. of inputs: 3\n",
            "Enter input: 1\n",
            "Enter input: 1\n",
            "Enter input: 1\n",
            "The result is:  0\n",
            "******************************\n",
            "Do you want to continue?(Enter'1' : Yes, '0': No): 1\n",
            "Choose an operation:\n",
            "1. OR\n",
            "2. AND\n",
            "3. NOT\n",
            "4. XOR\n",
            "5. NAND\n",
            "6. NOR\n",
            "7. XNOR\n",
            "0. Exit\n",
            "Enter logical operation: OR\n",
            "Enter threshold: 2\n",
            "Enter no. of inputs: 3\n",
            "Enter input: 1\n",
            "Enter input: 1\n",
            "Enter input: 1\n",
            "The result is:  1\n",
            "******************************\n",
            "Do you want to continue?(Enter'1' : Yes, '0': No): 1\n",
            "Choose an operation:\n",
            "1. OR\n",
            "2. AND\n",
            "3. NOT\n",
            "4. XOR\n",
            "5. NAND\n",
            "6. NOR\n",
            "7. XNOR\n",
            "0. Exit\n",
            "Enter logical operation: NOR\n",
            "Enter threshold: 1\n",
            "Enter no. of inputs: 5\n",
            "Enter input: 1\n",
            "Enter input: 0\n",
            "Enter input: 1\n",
            "Enter input: 0\n",
            "Enter input: 0\n",
            "The result is:  0\n",
            "******************************\n",
            "Do you want to continue?(Enter'1' : Yes, '0': No): 0\n",
            "******************** Terminated ********************\n"
          ]
        }
      ]
    },
    {
      "cell_type": "code",
      "source": [],
      "metadata": {
        "id": "yRMplYXpphy5"
      },
      "execution_count": null,
      "outputs": []
    }
  ]
}